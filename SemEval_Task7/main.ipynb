{
 "cells": [
  {
   "cell_type": "code",
   "execution_count": 2,
   "metadata": {},
   "outputs": [],
   "source": [
    "import csv \n",
    "import pandas as pd\n",
    "import numpy as np\n",
    "\n"
   ]
  },
  {
   "cell_type": "code",
   "execution_count": 1,
   "metadata": {},
   "outputs": [],
   "source": [
    "def parse_csv(file_path):\n",
    "    data = []\n",
    "    \n",
    "    # Open the CSV file and use csv.reader to parse it\n",
    "    with open(file_path, newline='', encoding='utf-8') as csvfile:\n",
    "        reader = csv.reader(csvfile)\n",
    "        next(reader)\n",
    "        \n",
    "        for row in reader:\n",
    "            id_ = int(row[0])\n",
    "            original_sentence = row[1].split(',')[0].replace(\"(\", \"\").replace(\"'\", \"\")\n",
    "            translation_sentence = row[1].split(', ')[1].replace(\"'\", \"\") if len(row[1].split(', ')) > 1 else None\n",
    "            language_tag = row[1].split(', ')[-2].replace(\"[('\", \"\").replace(\"'\", \"\")\n",
    "\n",
    "            fact_check_link = row[2].split(', ')[-1].replace(\")]\", \"\").replace(\"[(\", \"\").replace(\"'\",\"\") if len(row[1].split(', ')) > 2 else None\n",
    "            data.append({\n",
    "                \"id\": id_,\n",
    "                \"original_sentence\": original_sentence,\n",
    "                \"translation_sentence\": translation_sentence,\n",
    "                \"language\": language_tag,\n",
    "                \"fact_check_link\": fact_check_link\n",
    "            })\n",
    "    \n",
    "    return data\n"
   ]
  },
  {
   "cell_type": "code",
   "execution_count": 48,
   "metadata": {},
   "outputs": [
    {
     "name": "stdout",
     "output_type": "stream",
     "text": [
      "{'id': 12, 'original_sentence': '!! بيشرب مياه معدينة مستورده يا ولاد Evianطيب والمياه بتاعت الجيش “صافي” ؟وبعدين بتتقشف ونص مرتبك وفيلم وحوار على الشعب .. و سعر المياه الفرنسية “ايفيان” المستورده لمدة شهر لبيتك اكتر من نص مرتبك اللي اكيد مش بتعتمد عليه في حاجه ومجرد شكل', 'translation_sentence': '!! He drinks imported mineral water', 'language': 'ara', 'fact_check_link': 'https://dabegad.com/%d8%ad%d9%82%d9%8a%d9%82%d8%a9-%d8%b4%d8%b1%d8%a8-%d8%a7%d9%84%d8%b3%d9%8a%d8%b3%d9%8a-%d9%85%d9%8a%d8%a7%d9%87-%d9%85%d8%b9%d8%af%d9%86%d9%8a%d8%a9-%d9%85%d8%b3%d8%aa%d9%88%d8%b1%d8%af%d8%a9-%d9%85/#1abfca2eb0b726d4475aac32443586b8'}\n",
      "{'id': 13, 'original_sentence': '\" As vacinas não passaram pelos protocolos de teste adequados e não são seguras.\"', 'translation_sentence': '\"The vaccines have not passed the proper testing protocols and are not safe.\"', 'language': 'por', 'fact_check_link': 'https://observador.pt/factchecks/fact-check-as-vacinas-contra-a-covid-19-sao-inseguras-e-nao-foram-devidamente-testadas/#a53f8c0ea09ac2d572b8d93bbfabc762'}\n",
      "{'id': 14, 'original_sentence': '\" Bill Gates admitiu implantar microchips nas vacinas contra a Covid-19\".', 'translation_sentence': '\"Bill Gates admitted to implanting microchips in vaccines against Covid-19\".', 'language': 'por', 'fact_check_link': 'https://observador.pt/factchecks/fact-check-bill-gates-confirmou-que-chips-foram-implantados-nas-vacinas/#e7e4ffba54e3ec33cc27a21bfad01432'}\n"
     ]
    }
   ],
   "source": [
    "file_path = 'fact_checks.csv'\n",
    "data = parse_csv(file_path)\n",
    "\n",
    "# Print the parsed data\n",
    "for entry in data[12:15]:\n",
    "    print(entry)"
   ]
  }
 ],
 "metadata": {
  "kernelspec": {
   "display_name": "Python 3",
   "language": "python",
   "name": "python3"
  },
  "language_info": {
   "codemirror_mode": {
    "name": "ipython",
    "version": 3
   },
   "file_extension": ".py",
   "mimetype": "text/x-python",
   "name": "python",
   "nbconvert_exporter": "python",
   "pygments_lexer": "ipython3",
   "version": "3.10.12"
  },
  "orig_nbformat": 4,
  "vscode": {
   "interpreter": {
    "hash": "916dbcbb3f70747c44a77c7bcd40155683ae19c65e1c03b4aa3499c5328201f1"
   }
  }
 },
 "nbformat": 4,
 "nbformat_minor": 2
}
